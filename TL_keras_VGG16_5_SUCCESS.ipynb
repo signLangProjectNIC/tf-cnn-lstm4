{
  "nbformat": 4,
  "nbformat_minor": 0,
  "metadata": {
    "colab": {
      "name": "TL keras VGG16 5 SUCCESS.ipynb",
      "provenance": [],
      "collapsed_sections": [],
      "authorship_tag": "ABX9TyMde+q/KxshOUCei0qy6KIZ",
      "include_colab_link": true
    },
    "kernelspec": {
      "name": "python3",
      "display_name": "Python 3"
    },
    "language_info": {
      "name": "python"
    }
  },
  "cells": [
    {
      "cell_type": "markdown",
      "metadata": {
        "id": "view-in-github",
        "colab_type": "text"
      },
      "source": [
        "<a href=\"https://colab.research.google.com/github/signLangProjectNIC/tf-cnn-lstm4/blob/main/TL_keras_VGG16_5_SUCCESS.ipynb\" target=\"_parent\"><img src=\"https://colab.research.google.com/assets/colab-badge.svg\" alt=\"Open In Colab\"/></a>"
      ]
    },
    {
      "cell_type": "code",
      "metadata": {
        "colab": {
          "base_uri": "https://localhost:8080/",
          "height": 505
        },
        "id": "g7cHjTcL8M5Q",
        "outputId": "718efa3c-3afe-4dc5-b367-64c0afb26c80"
      },
      "source": [
        "model.fit_generator(epochs=2,verbose=2,generator=training_generator,\n",
        "                  validation_data=validation_generator)"
      ],
      "execution_count": null,
      "outputs": [
        {
          "output_type": "stream",
          "text": [
            "Shape of X output by data generator:  (10, 2, 224, 224, 3)\n",
            "Epoch 1/2\n",
            "Shape of X output by data generator:  (10, 2, 224, 224, 3)\n",
            "Shape of X output by data generator:  (10, 2, 224, 224, 3)\n",
            "Shape of X output by data generator:  (10, 2, 224, 224, 3)\n",
            "3/3 - 122s - loss: 2.3219 - accuracy: 0.0000e+00\n",
            "Epoch 2/2\n",
            "Shape of X output by data generator:  (10, 2, 224, 224, 3)\n",
            "Shape of X output by data generator:  (10, 2, 224, 224, 3)\n",
            "Shape of X output by data generator:  (10, 2, 224, 224, 3)\n"
          ],
          "name": "stdout"
        },
        {
          "output_type": "error",
          "ename": "KeyboardInterrupt",
          "evalue": "ignored",
          "traceback": [
            "\u001b[0;31m---------------------------------------------------------------------------\u001b[0m",
            "\u001b[0;31mKeyboardInterrupt\u001b[0m                         Traceback (most recent call last)",
            "\u001b[0;32m<ipython-input-18-aaad182bfa2d>\u001b[0m in \u001b[0;36m<module>\u001b[0;34m()\u001b[0m\n\u001b[1;32m      1\u001b[0m model.fit_generator(epochs=2,verbose=2,generator=training_generator,\n\u001b[0;32m----> 2\u001b[0;31m                   validation_data=validation_generator)\n\u001b[0m",
            "\u001b[0;32m/usr/local/lib/python3.7/dist-packages/tensorflow/python/keras/engine/training.py\u001b[0m in \u001b[0;36mfit_generator\u001b[0;34m(self, generator, steps_per_epoch, epochs, verbose, callbacks, validation_data, validation_steps, validation_freq, class_weight, max_queue_size, workers, use_multiprocessing, shuffle, initial_epoch)\u001b[0m\n\u001b[1;32m   1859\u001b[0m         \u001b[0muse_multiprocessing\u001b[0m\u001b[0;34m=\u001b[0m\u001b[0muse_multiprocessing\u001b[0m\u001b[0;34m,\u001b[0m\u001b[0;34m\u001b[0m\u001b[0;34m\u001b[0m\u001b[0m\n\u001b[1;32m   1860\u001b[0m         \u001b[0mshuffle\u001b[0m\u001b[0;34m=\u001b[0m\u001b[0mshuffle\u001b[0m\u001b[0;34m,\u001b[0m\u001b[0;34m\u001b[0m\u001b[0;34m\u001b[0m\u001b[0m\n\u001b[0;32m-> 1861\u001b[0;31m         initial_epoch=initial_epoch)\n\u001b[0m\u001b[1;32m   1862\u001b[0m \u001b[0;34m\u001b[0m\u001b[0m\n\u001b[1;32m   1863\u001b[0m   def evaluate_generator(self,\n",
            "\u001b[0;32m/usr/local/lib/python3.7/dist-packages/tensorflow/python/keras/engine/training.py\u001b[0m in \u001b[0;36mfit\u001b[0;34m(self, x, y, batch_size, epochs, verbose, callbacks, validation_split, validation_data, shuffle, class_weight, sample_weight, initial_epoch, steps_per_epoch, validation_steps, validation_batch_size, validation_freq, max_queue_size, workers, use_multiprocessing)\u001b[0m\n\u001b[1;32m   1098\u001b[0m                 _r=1):\n\u001b[1;32m   1099\u001b[0m               \u001b[0mcallbacks\u001b[0m\u001b[0;34m.\u001b[0m\u001b[0mon_train_batch_begin\u001b[0m\u001b[0;34m(\u001b[0m\u001b[0mstep\u001b[0m\u001b[0;34m)\u001b[0m\u001b[0;34m\u001b[0m\u001b[0;34m\u001b[0m\u001b[0m\n\u001b[0;32m-> 1100\u001b[0;31m               \u001b[0mtmp_logs\u001b[0m \u001b[0;34m=\u001b[0m \u001b[0mself\u001b[0m\u001b[0;34m.\u001b[0m\u001b[0mtrain_function\u001b[0m\u001b[0;34m(\u001b[0m\u001b[0miterator\u001b[0m\u001b[0;34m)\u001b[0m\u001b[0;34m\u001b[0m\u001b[0;34m\u001b[0m\u001b[0m\n\u001b[0m\u001b[1;32m   1101\u001b[0m               \u001b[0;32mif\u001b[0m \u001b[0mdata_handler\u001b[0m\u001b[0;34m.\u001b[0m\u001b[0mshould_sync\u001b[0m\u001b[0;34m:\u001b[0m\u001b[0;34m\u001b[0m\u001b[0;34m\u001b[0m\u001b[0m\n\u001b[1;32m   1102\u001b[0m                 \u001b[0mcontext\u001b[0m\u001b[0;34m.\u001b[0m\u001b[0masync_wait\u001b[0m\u001b[0;34m(\u001b[0m\u001b[0;34m)\u001b[0m\u001b[0;34m\u001b[0m\u001b[0;34m\u001b[0m\u001b[0m\n",
            "\u001b[0;32m/usr/local/lib/python3.7/dist-packages/tensorflow/python/eager/def_function.py\u001b[0m in \u001b[0;36m__call__\u001b[0;34m(self, *args, **kwds)\u001b[0m\n\u001b[1;32m    826\u001b[0m     \u001b[0mtracing_count\u001b[0m \u001b[0;34m=\u001b[0m \u001b[0mself\u001b[0m\u001b[0;34m.\u001b[0m\u001b[0mexperimental_get_tracing_count\u001b[0m\u001b[0;34m(\u001b[0m\u001b[0;34m)\u001b[0m\u001b[0;34m\u001b[0m\u001b[0;34m\u001b[0m\u001b[0m\n\u001b[1;32m    827\u001b[0m     \u001b[0;32mwith\u001b[0m \u001b[0mtrace\u001b[0m\u001b[0;34m.\u001b[0m\u001b[0mTrace\u001b[0m\u001b[0;34m(\u001b[0m\u001b[0mself\u001b[0m\u001b[0;34m.\u001b[0m\u001b[0m_name\u001b[0m\u001b[0;34m)\u001b[0m \u001b[0;32mas\u001b[0m \u001b[0mtm\u001b[0m\u001b[0;34m:\u001b[0m\u001b[0;34m\u001b[0m\u001b[0;34m\u001b[0m\u001b[0m\n\u001b[0;32m--> 828\u001b[0;31m       \u001b[0mresult\u001b[0m \u001b[0;34m=\u001b[0m \u001b[0mself\u001b[0m\u001b[0;34m.\u001b[0m\u001b[0m_call\u001b[0m\u001b[0;34m(\u001b[0m\u001b[0;34m*\u001b[0m\u001b[0margs\u001b[0m\u001b[0;34m,\u001b[0m \u001b[0;34m**\u001b[0m\u001b[0mkwds\u001b[0m\u001b[0;34m)\u001b[0m\u001b[0;34m\u001b[0m\u001b[0;34m\u001b[0m\u001b[0m\n\u001b[0m\u001b[1;32m    829\u001b[0m       \u001b[0mcompiler\u001b[0m \u001b[0;34m=\u001b[0m \u001b[0;34m\"xla\"\u001b[0m \u001b[0;32mif\u001b[0m \u001b[0mself\u001b[0m\u001b[0;34m.\u001b[0m\u001b[0m_experimental_compile\u001b[0m \u001b[0;32melse\u001b[0m \u001b[0;34m\"nonXla\"\u001b[0m\u001b[0;34m\u001b[0m\u001b[0;34m\u001b[0m\u001b[0m\n\u001b[1;32m    830\u001b[0m       \u001b[0mnew_tracing_count\u001b[0m \u001b[0;34m=\u001b[0m \u001b[0mself\u001b[0m\u001b[0;34m.\u001b[0m\u001b[0mexperimental_get_tracing_count\u001b[0m\u001b[0;34m(\u001b[0m\u001b[0;34m)\u001b[0m\u001b[0;34m\u001b[0m\u001b[0;34m\u001b[0m\u001b[0m\n",
            "\u001b[0;32m/usr/local/lib/python3.7/dist-packages/tensorflow/python/eager/def_function.py\u001b[0m in \u001b[0;36m_call\u001b[0;34m(self, *args, **kwds)\u001b[0m\n\u001b[1;32m    853\u001b[0m       \u001b[0;31m# In this case we have created variables on the first call, so we run the\u001b[0m\u001b[0;34m\u001b[0m\u001b[0;34m\u001b[0m\u001b[0;34m\u001b[0m\u001b[0m\n\u001b[1;32m    854\u001b[0m       \u001b[0;31m# defunned version which is guaranteed to never create variables.\u001b[0m\u001b[0;34m\u001b[0m\u001b[0;34m\u001b[0m\u001b[0;34m\u001b[0m\u001b[0m\n\u001b[0;32m--> 855\u001b[0;31m       \u001b[0;32mreturn\u001b[0m \u001b[0mself\u001b[0m\u001b[0;34m.\u001b[0m\u001b[0m_stateless_fn\u001b[0m\u001b[0;34m(\u001b[0m\u001b[0;34m*\u001b[0m\u001b[0margs\u001b[0m\u001b[0;34m,\u001b[0m \u001b[0;34m**\u001b[0m\u001b[0mkwds\u001b[0m\u001b[0;34m)\u001b[0m  \u001b[0;31m# pylint: disable=not-callable\u001b[0m\u001b[0;34m\u001b[0m\u001b[0;34m\u001b[0m\u001b[0m\n\u001b[0m\u001b[1;32m    856\u001b[0m     \u001b[0;32melif\u001b[0m \u001b[0mself\u001b[0m\u001b[0;34m.\u001b[0m\u001b[0m_stateful_fn\u001b[0m \u001b[0;32mis\u001b[0m \u001b[0;32mnot\u001b[0m \u001b[0;32mNone\u001b[0m\u001b[0;34m:\u001b[0m\u001b[0;34m\u001b[0m\u001b[0;34m\u001b[0m\u001b[0m\n\u001b[1;32m    857\u001b[0m       \u001b[0;31m# Release the lock early so that multiple threads can perform the call\u001b[0m\u001b[0;34m\u001b[0m\u001b[0;34m\u001b[0m\u001b[0;34m\u001b[0m\u001b[0m\n",
            "\u001b[0;32m/usr/local/lib/python3.7/dist-packages/tensorflow/python/eager/function.py\u001b[0m in \u001b[0;36m__call__\u001b[0;34m(self, *args, **kwargs)\u001b[0m\n\u001b[1;32m   2941\u001b[0m        filtered_flat_args) = self._maybe_define_function(args, kwargs)\n\u001b[1;32m   2942\u001b[0m     return graph_function._call_flat(\n\u001b[0;32m-> 2943\u001b[0;31m         filtered_flat_args, captured_inputs=graph_function.captured_inputs)  # pylint: disable=protected-access\n\u001b[0m\u001b[1;32m   2944\u001b[0m \u001b[0;34m\u001b[0m\u001b[0m\n\u001b[1;32m   2945\u001b[0m   \u001b[0;34m@\u001b[0m\u001b[0mproperty\u001b[0m\u001b[0;34m\u001b[0m\u001b[0;34m\u001b[0m\u001b[0m\n",
            "\u001b[0;32m/usr/local/lib/python3.7/dist-packages/tensorflow/python/eager/function.py\u001b[0m in \u001b[0;36m_call_flat\u001b[0;34m(self, args, captured_inputs, cancellation_manager)\u001b[0m\n\u001b[1;32m   1917\u001b[0m       \u001b[0;31m# No tape is watching; skip to running the function.\u001b[0m\u001b[0;34m\u001b[0m\u001b[0;34m\u001b[0m\u001b[0;34m\u001b[0m\u001b[0m\n\u001b[1;32m   1918\u001b[0m       return self._build_call_outputs(self._inference_function.call(\n\u001b[0;32m-> 1919\u001b[0;31m           ctx, args, cancellation_manager=cancellation_manager))\n\u001b[0m\u001b[1;32m   1920\u001b[0m     forward_backward = self._select_forward_and_backward_functions(\n\u001b[1;32m   1921\u001b[0m         \u001b[0margs\u001b[0m\u001b[0;34m,\u001b[0m\u001b[0;34m\u001b[0m\u001b[0;34m\u001b[0m\u001b[0m\n",
            "\u001b[0;32m/usr/local/lib/python3.7/dist-packages/tensorflow/python/eager/function.py\u001b[0m in \u001b[0;36mcall\u001b[0;34m(self, ctx, args, cancellation_manager)\u001b[0m\n\u001b[1;32m    558\u001b[0m               \u001b[0minputs\u001b[0m\u001b[0;34m=\u001b[0m\u001b[0margs\u001b[0m\u001b[0;34m,\u001b[0m\u001b[0;34m\u001b[0m\u001b[0;34m\u001b[0m\u001b[0m\n\u001b[1;32m    559\u001b[0m               \u001b[0mattrs\u001b[0m\u001b[0;34m=\u001b[0m\u001b[0mattrs\u001b[0m\u001b[0;34m,\u001b[0m\u001b[0;34m\u001b[0m\u001b[0;34m\u001b[0m\u001b[0m\n\u001b[0;32m--> 560\u001b[0;31m               ctx=ctx)\n\u001b[0m\u001b[1;32m    561\u001b[0m         \u001b[0;32melse\u001b[0m\u001b[0;34m:\u001b[0m\u001b[0;34m\u001b[0m\u001b[0;34m\u001b[0m\u001b[0m\n\u001b[1;32m    562\u001b[0m           outputs = execute.execute_with_cancellation(\n",
            "\u001b[0;32m/usr/local/lib/python3.7/dist-packages/tensorflow/python/eager/execute.py\u001b[0m in \u001b[0;36mquick_execute\u001b[0;34m(op_name, num_outputs, inputs, attrs, ctx, name)\u001b[0m\n\u001b[1;32m     58\u001b[0m     \u001b[0mctx\u001b[0m\u001b[0;34m.\u001b[0m\u001b[0mensure_initialized\u001b[0m\u001b[0;34m(\u001b[0m\u001b[0;34m)\u001b[0m\u001b[0;34m\u001b[0m\u001b[0;34m\u001b[0m\u001b[0m\n\u001b[1;32m     59\u001b[0m     tensors = pywrap_tfe.TFE_Py_Execute(ctx._handle, device_name, op_name,\n\u001b[0;32m---> 60\u001b[0;31m                                         inputs, attrs, num_outputs)\n\u001b[0m\u001b[1;32m     61\u001b[0m   \u001b[0;32mexcept\u001b[0m \u001b[0mcore\u001b[0m\u001b[0;34m.\u001b[0m\u001b[0m_NotOkStatusException\u001b[0m \u001b[0;32mas\u001b[0m \u001b[0me\u001b[0m\u001b[0;34m:\u001b[0m\u001b[0;34m\u001b[0m\u001b[0;34m\u001b[0m\u001b[0m\n\u001b[1;32m     62\u001b[0m     \u001b[0;32mif\u001b[0m \u001b[0mname\u001b[0m \u001b[0;32mis\u001b[0m \u001b[0;32mnot\u001b[0m \u001b[0;32mNone\u001b[0m\u001b[0;34m:\u001b[0m\u001b[0;34m\u001b[0m\u001b[0;34m\u001b[0m\u001b[0m\n",
            "\u001b[0;31mKeyboardInterrupt\u001b[0m: "
          ]
        }
      ]
    },
    {
      "cell_type": "code",
      "metadata": {
        "colab": {
          "base_uri": "https://localhost:8080/"
        },
        "id": "4VL5-PPxu7_c",
        "outputId": "e259962f-77fe-4587-daed-22afe25ae681"
      },
      "source": [
        "import numpy as np\n",
        "import keras\n",
        "import os\n",
        "from PIL import Image\n",
        "from matplotlib import pyplot as plt\n",
        "from moviepy.editor import *\n",
        "import cv2\n",
        "import moviepy\n",
        "import sys\n",
        "import random\n",
        "import tensorflow.keras.layers as tfKL\n",
        "from tensorflow.keras import regularizers\n",
        "from keras.layers import Activation, Dense \n",
        "from sklearn.model_selection import train_test_split\n",
        "\n",
        "from matplotlib import pyplot as plt\n",
        "import random\n",
        "import pandas as pd\n",
        "from tensorflow import keras\n",
        "from keras.applications.vgg16 import VGG16\n",
        "from keras import Sequential\n",
        "from keras.layers import Dense, Concatenate, Input, Lambda,LSTM,Reshape\n",
        "from keras.models import Model"
      ],
      "execution_count": null,
      "outputs": [
        {
          "output_type": "stream",
          "text": [
            "Imageio: 'ffmpeg-linux64-v3.3.1' was not found on your computer; downloading it now.\n",
            "Try 1. Download from https://github.com/imageio/imageio-binaries/raw/master/ffmpeg/ffmpeg-linux64-v3.3.1 (43.8 MB)\n",
            "Downloading: 8192/45929032 bytes (0.0%)\b\b\b\b\b\b\b\b\b\b\b\b\b\b\b\b\b\b\b\b\b\b\b\b\b\b3907584/45929032 bytes (8.5%)\b\b\b\b\b\b\b\b\b\b\b\b\b\b\b\b\b\b\b\b\b\b\b\b\b\b\b\b\b8003584/45929032 bytes (17.4%)\b\b\b\b\b\b\b\b\b\b\b\b\b\b\b\b\b\b\b\b\b\b\b\b\b\b\b\b\b\b12009472/45929032 bytes (26.1%)\b\b\b\b\b\b\b\b\b\b\b\b\b\b\b\b\b\b\b\b\b\b\b\b\b\b\b\b\b\b\b16138240/45929032 bytes (35.1%)\b\b\b\b\b\b\b\b\b\b\b\b\b\b\b\b\b\b\b\b\b\b\b\b\b\b\b\b\b\b\b20013056/45929032 bytes (43.6%)\b\b\b\b\b\b\b\b\b\b\b\b\b\b\b\b\b\b\b\b\b\b\b\b\b\b\b\b\b\b\b23994368/45929032 bytes (52.2%)\b\b\b\b\b\b\b\b\b\b\b\b\b\b\b\b\b\b\b\b\b\b\b\b\b\b\b\b\b\b\b28196864/45929032 bytes (61.4%)\b\b\b\b\b\b\b\b\b\b\b\b\b\b\b\b\b\b\b\b\b\b\b\b\b\b\b\b\b\b\b32284672/45929032 bytes (70.3%)\b\b\b\b\b\b\b\b\b\b\b\b\b\b\b\b\b\b\b\b\b\b\b\b\b\b\b\b\b\b\b36421632/45929032 bytes (79.3%)\b\b\b\b\b\b\b\b\b\b\b\b\b\b\b\b\b\b\b\b\b\b\b\b\b\b\b\b\b\b\b40640512/45929032 bytes (88.5%)\b\b\b\b\b\b\b\b\b\b\b\b\b\b\b\b\b\b\b\b\b\b\b\b\b\b\b\b\b\b\b44728320/45929032 bytes (97.4%)\b\b\b\b\b\b\b\b\b\b\b\b\b\b\b\b\b\b\b\b\b\b\b\b\b\b\b\b\b\b\b45929032/45929032 bytes (100.0%)\n",
            "  Done\n",
            "File saved as /root/.imageio/ffmpeg/ffmpeg-linux64-v3.3.1.\n"
          ],
          "name": "stdout"
        }
      ]
    },
    {
      "cell_type": "code",
      "metadata": {
        "colab": {
          "base_uri": "https://localhost:8080/"
        },
        "id": "C1qJz3HmvAkB",
        "outputId": "c97a683e-e041-4ab3-8310-a933aacc50f2"
      },
      "source": [
        "from google.colab import drive\n",
        "drive.mount('/content/gdrive')\n",
        "mainPath=\"/content/gdrive/MyDrive/hand sign database\""
      ],
      "execution_count": null,
      "outputs": [
        {
          "output_type": "stream",
          "text": [
            "Mounted at /content/gdrive\n"
          ],
          "name": "stdout"
        }
      ]
    },
    {
      "cell_type": "code",
      "metadata": {
        "id": "paHPFzcNvBtt"
      },
      "source": [
        "nCategories=8"
      ],
      "execution_count": null,
      "outputs": []
    },
    {
      "cell_type": "code",
      "metadata": {
        "id": "N-k_gAtpvCx0"
      },
      "source": [
        "partition ={}\n",
        "labels ={}"
      ],
      "execution_count": null,
      "outputs": []
    },
    {
      "cell_type": "code",
      "metadata": {
        "id": "UFiKovMVvD-b"
      },
      "source": [
        "partition['train']=list()\n",
        "partition['validation']=list()\n",
        "partition['test']=list()"
      ],
      "execution_count": null,
      "outputs": []
    },
    {
      "cell_type": "code",
      "metadata": {
        "colab": {
          "base_uri": "https://localhost:8080/"
        },
        "id": "7Kf27yzYvJcC",
        "outputId": "d18c0bd6-a049-4d84-eb8e-83361165337a"
      },
      "source": [
        "def mapCatToNumber(file1):\n",
        "  strings=[]\n",
        "  for cat in os.listdir(file1):\n",
        "    strings.append(cat)\n",
        "  stringsS=sorted(strings)\n",
        "  answer={}\n",
        "  for i in range(len(stringsS)):\n",
        "    answer[stringsS[i]]=i\n",
        "  return answer\n",
        "mappingCatToN=mapCatToNumber(mainPath)\n",
        "print(mappingCatToN)"
      ],
      "execution_count": null,
      "outputs": [
        {
          "output_type": "stream",
          "text": [
            "{'accident': 0, 'call': 1, 'doctor': 2, 'help': 3, 'hot': 4, 'lose': 5, 'pain': 6, 'thief': 7}\n"
          ],
          "name": "stdout"
        }
      ]
    },
    {
      "cell_type": "code",
      "metadata": {
        "colab": {
          "base_uri": "https://localhost:8080/"
        },
        "id": "BmC9KuYYvK5k",
        "outputId": "3f585c73-4030-47c5-d000-0b24b79342a7"
      },
      "source": [
        "for category in os.listdir(mainPath):\n",
        "  print(category)\n",
        "  vidL=[]\n",
        "  for video in os.listdir(os.path.join(mainPath,category)):\n",
        "    vidL.append(os.path.join(mainPath,category,video))\n",
        "  lenVidL=len(vidL)\n",
        "  trainLen=(int)(3*lenVidL/4)\n",
        "  testLen=int(lenVidL/10)\n",
        "  valLen=lenVidL-trainLen-testLen\n",
        "  print(trainLen,\" \",valLen,\" \",testLen)\n",
        "  random.shuffle(vidL)\n",
        "  for i in range(lenVidL):\n",
        "    labels[vidL[i]]=mappingCatToN[category]\n",
        "    if i<trainLen:\n",
        "      partition['train'].append(vidL[i])\n",
        "    elif i<trainLen+valLen:\n",
        "      partition['validation'].append(vidL[i])\n",
        "    else:\n",
        "      partition['test'].append(vidL[i])"
      ],
      "execution_count": null,
      "outputs": [
        {
          "output_type": "stream",
          "text": [
            "hot\n",
            "39   8   5\n",
            "call\n",
            "39   8   5\n",
            "lose\n",
            "30   6   4\n",
            "pain\n",
            "39   8   5\n",
            "doctor\n",
            "39   8   5\n",
            "accident\n",
            "39   8   5\n",
            "thief\n",
            "37   8   5\n",
            "help\n",
            "39   8   5\n"
          ],
          "name": "stdout"
        }
      ]
    },
    {
      "cell_type": "code",
      "metadata": {
        "colab": {
          "base_uri": "https://localhost:8080/"
        },
        "id": "CKn7iOVOvL6R",
        "outputId": "5587e36a-51a7-453c-f864-12a1a37850b6"
      },
      "source": [
        "print(np.shape(partition['train']))\n",
        "print(np.shape(partition['validation']))\n",
        "print(np.shape(partition['test']))"
      ],
      "execution_count": null,
      "outputs": [
        {
          "output_type": "stream",
          "text": [
            "(301,)\n",
            "(62,)\n",
            "(39,)\n"
          ],
          "name": "stdout"
        }
      ]
    },
    {
      "cell_type": "code",
      "metadata": {
        "id": "e0BOlOzTvNvR"
      },
      "source": [
        "import numpy as np\n",
        "import keras\n",
        "\n",
        "class DataGenerator(keras.utils.Sequence):\n",
        "  'Generates data for Keras'\n",
        "  def __init__(self, list_IDs, labels, batch_size=32, dim=(20,224,224,3), n_classes=8, shuffle=True):\n",
        "    'Initialization'\n",
        "    self.dim = dim\n",
        "    self.batch_size = batch_size\n",
        "    self.labels = labels\n",
        "    self.list_IDs = list_IDs\n",
        "    self.n_classes = n_classes\n",
        "    self.shuffle = shuffle\n",
        "    self.on_epoch_end()\n",
        "\n",
        "  def __len__(self):\n",
        "    'Denotes the number of batches per epoch'\n",
        "    return int(np.floor(len(self.list_IDs) / self.batch_size))\n",
        "\n",
        "  def __getitem__(self, index):\n",
        "    'Generate one batch of data'\n",
        "    # Generate indexes of the batch\n",
        "    indexes = self.indexes[index*self.batch_size:(index+1)*self.batch_size]\n",
        "\n",
        "    # Find list of IDs\n",
        "    list_IDs_temp = [self.list_IDs[k] for k in indexes]\n",
        "\n",
        "    # Generate data\n",
        "    X, y = self.__data_generation(list_IDs_temp)\n",
        "\n",
        "    return X, y\n",
        "\n",
        "  def on_epoch_end(self):\n",
        "    'Updates indexes after each epoch'\n",
        "    self.indexes = np.arange(len(self.list_IDs))\n",
        "    if self.shuffle == True:\n",
        "        np.random.shuffle(self.indexes)\n",
        "\n",
        "  def __data_generation(self, list_IDs_temp):\n",
        "    'Generates data containing batch_size samples' # X : (n_samples, *dim, n_channels)\n",
        "    # Initialization\n",
        "    X = np.empty((self.batch_size, *self.dim))\n",
        "    y = np.empty((self.batch_size), dtype=int)\n",
        "\n",
        "    # Generate data\n",
        "    for i, ID in enumerate(list_IDs_temp):\n",
        "      # Store sample\n",
        "      # X[i,] = np.load('data/' + ID + '.npy')\n",
        "      ######\n",
        "      # print(ID)\n",
        "      try:\n",
        "        vidObj = moviepy.editor.VideoFileClip(ID)\n",
        "      except IOError as e:\n",
        "        errno, strerror = e.args\n",
        "        print(errno)\n",
        "        print(strerror)\n",
        "      video_duration = int(vidObj.duration)   \n",
        "      nFrames=self.dim[0]\n",
        "      array=np.empty(shape=(nFrames,224,224,3))\n",
        "      frameSize=(self.dim[1],self.dim[2])\n",
        "      for k in range(nFrames):\n",
        "        frame=vidObj.get_frame((k+1)*video_duration/(nFrames*1.0))\n",
        "        frameR=Image.fromarray(frame).convert(\"RGB\")\n",
        "        frame2=frameR.resize(frameSize)\n",
        "        arrayi=np.array(frame2)/255\n",
        "        # if k is 0:\n",
        "        #   print(np.shape(arrayi))\n",
        "        array[k]=arrayi\n",
        "      # print(np.shape(array))\n",
        "      X[i,]=array\n",
        "      #######\n",
        "      # Store class\n",
        "      y[i] = self.labels[ID]\n",
        "    print(\"Shape of X output by data generator: \",np.shape(X))\n",
        "    return np.array(X), keras.utils.to_categorical(y, num_classes=self.n_classes)"
      ],
      "execution_count": null,
      "outputs": []
    },
    {
      "cell_type": "code",
      "metadata": {
        "id": "OzI852AVvOxN"
      },
      "source": [
        "def createModel4(Tframes=20,batch_size=10,epochs=500,verbose=2,metrics=['accuracy'],loss='categorical_crossentropy',optimizer='adam'):\n",
        "  input=Input(shape=(Tframes,224,224,3))\n",
        "  branchOutputs=[]\n",
        "  for i in range(Tframes):\n",
        "    out=Lambda(lambda x: x[:,i,:,:,:])(input)\n",
        "    print(\"out.shape: \",out.shape)\n",
        "    name=\"vgg16_\"+str(i)\n",
        "    tempModel=Sequential(name=name)\n",
        "    tempModel.add(VGG16(include_top=False,input_shape=(224,224,3)))\n",
        "    out1=tempModel(out)\n",
        "    branchOutputs.append(out1)\n",
        "  out = Concatenate()(branchOutputs)\n",
        "  model=Model(inputs=input,outputs=out)\n",
        "  model2=Sequential()\n",
        "  model2.add(model)\n",
        "  model2.add(tfKL.TimeDistributed(LSTM(units=147,activation='tanh',input_shape=(None,7,7,512))))\n",
        "  model2.add(tfKL.Flatten())\n",
        "  model2.add(Dense(units=8,activation='softmax'))\n",
        "  model2.compile(optimizer=optimizer, loss=loss, metrics=metrics)\n",
        "  return model2"
      ],
      "execution_count": null,
      "outputs": []
    },
    {
      "cell_type": "code",
      "metadata": {
        "id": "GuhjUKen8QMh"
      },
      "source": [
        "#this means it works!!!"
      ],
      "execution_count": null,
      "outputs": []
    },
    {
      "cell_type": "code",
      "metadata": {
        "colab": {
          "base_uri": "https://localhost:8080/"
        },
        "id": "ReOdFYisA6Tk",
        "outputId": "6f21c2ff-6790-40c8-ae3e-0ea1f6a92164"
      },
      "source": [
        "%tensorflow_version 2.x\n",
        "import tensorflow as tf\n",
        "device_name = tf.test.gpu_device_name()\n",
        "if device_name != '/device:GPU:0':\n",
        "  raise SystemError('GPU device not found')\n",
        "print('Found GPU at: {}'.format(device_name))"
      ],
      "execution_count": null,
      "outputs": [
        {
          "output_type": "stream",
          "text": [
            "Found GPU at: /device:GPU:0\n"
          ],
          "name": "stdout"
        }
      ]
    },
    {
      "cell_type": "code",
      "metadata": {
        "colab": {
          "base_uri": "https://localhost:8080/"
        },
        "id": "iHorxxJaAdcD",
        "outputId": "77bb68ff-1a8e-41a6-8070-b52d29024c2d"
      },
      "source": [
        "with tf.device('/device:GPU:0'):\n",
        "  Tframes=10\n",
        "  batch_size=10\n",
        "  params = {'dim': (Tframes,224,224,3),\n",
        "            'batch_size': batch_size,\n",
        "            'n_classes': 8,\n",
        "            'shuffle': True}\n",
        "\n",
        "  # Generators\n",
        "  training_generator = DataGenerator(partition['train'], labels, **params)\n",
        "  validation_generator = DataGenerator(partition['validation'], labels, **params)\n",
        "\n",
        "\n",
        "  model=createModel4(Tframes=Tframes)\n",
        "  history=model.fit_generator(epochs=2,verbose=2,generator=training_generator,\n",
        "                    validation_data=validation_generator)\n",
        "  plt.plot(history.history['accuracy'])\n",
        "  plt.plot(history.history['val_accuracy'])\n",
        "  plt.title('model accuracy')\n",
        "  plt.ylabel('accuracy')\n",
        "  plt.xlabel('epoch')\n",
        "  plt.legend(['train', 'val'], loc='upper left')\n",
        "  plt.show()\n",
        "\n",
        "  plt.plot(history.history['loss'])\n",
        "  plt.plot(history.history['val_loss'])\n",
        "  plt.title('model loss')\n",
        "  plt.ylabel('loss')\n",
        "  plt.xlabel('epoch')\n",
        "  plt.legend(['train', 'val'], loc='upper left')\n",
        "  plt.show()"
      ],
      "execution_count": null,
      "outputs": [
        {
          "output_type": "stream",
          "text": [
            "out.shape:  (None, 224, 224, 3)\n",
            "out.shape:  (None, 224, 224, 3)\n",
            "out.shape:  (None, 224, 224, 3)\n",
            "out.shape:  (None, 224, 224, 3)\n",
            "out.shape:  (None, 224, 224, 3)\n",
            "out.shape:  (None, 224, 224, 3)\n",
            "out.shape:  (None, 224, 224, 3)\n",
            "out.shape:  (None, 224, 224, 3)\n",
            "out.shape:  (None, 224, 224, 3)\n",
            "out.shape:  (None, 224, 224, 3)\n",
            "Shape of X output by data generator:  (10, 10, 224, 224, 3)\n",
            "Epoch 1/2\n",
            "Shape of X output by data generator:  (10, 10, 224, 224, 3)\n",
            "Shape of X output by data generator:  (10, 10, 224, 224, 3)\n",
            "Shape of X output by data generator:  (10, 10, 224, 224, 3)\n",
            "Shape of X output by data generator:  (10, 10, 224, 224, 3)\n",
            "Shape of X output by data generator:  (10, 10, 224, 224, 3)\n",
            "Shape of X output by data generator:  (10, 10, 224, 224, 3)\n",
            "Shape of X output by data generator:  (10, 10, 224, 224, 3)\n",
            "Shape of X output by data generator:  (10, 10, 224, 224, 3)\n",
            "Shape of X output by data generator:  (10, 10, 224, 224, 3)\n",
            "Shape of X output by data generator:  (10, 10, 224, 224, 3)\n",
            "Shape of X output by data generator:  (10, 10, 224, 224, 3)\n",
            "Shape of X output by data generator:  (10, 10, 224, 224, 3)\n",
            "Shape of X output by data generator:  (10, 10, 224, 224, 3)\n",
            "Shape of X output by data generator:  (10, 10, 224, 224, 3)\n",
            "Shape of X output by data generator:  (10, 10, 224, 224, 3)\n",
            "Shape of X output by data generator:  (10, 10, 224, 224, 3)\n",
            "Shape of X output by data generator:  (10, 10, 224, 224, 3)\n",
            "Shape of X output by data generator:  (10, 10, 224, 224, 3)\n",
            "Shape of X output by data generator:  (10, 10, 224, 224, 3)\n",
            "Shape of X output by data generator:  (10, 10, 224, 224, 3)\n",
            "Shape of X output by data generator:  (10, 10, 224, 224, 3)\n",
            "Shape of X output by data generator:  (10, 10, 224, 224, 3)\n",
            "Shape of X output by data generator:  (10, 10, 224, 224, 3)\n",
            "Shape of X output by data generator:  (10, 10, 224, 224, 3)\n",
            "Shape of X output by data generator:  (10, 10, 224, 224, 3)\n",
            "Shape of X output by data generator:  (10, 10, 224, 224, 3)\n",
            "Shape of X output by data generator:  (10, 10, 224, 224, 3)\n",
            "Shape of X output by data generator:  (10, 10, 224, 224, 3)\n",
            "Shape of X output by data generator:  (10, 10, 224, 224, 3)\n",
            "Shape of X output by data generator:  (10, 10, 224, 224, 3)\n",
            "Shape of X output by data generator:  (10, 10, 224, 224, 3)\n",
            "Shape of X output by data generator:  (10, 10, 224, 224, 3)\n",
            "Shape of X output by data generator:  (10, 10, 224, 224, 3)\n",
            "Shape of X output by data generator:  (10, 10, 224, 224, 3)\n",
            "Shape of X output by data generator:  (10, 10, 224, 224, 3)\n",
            "Shape of X output by data generator:  (10, 10, 224, 224, 3)\n",
            "Shape of X output by data generator:  (10, 10, 224, 224, 3)\n",
            "30/30 - 296s - loss: 2.2166 - accuracy: 0.1067 - val_loss: 2.1030 - val_accuracy: 0.1167\n",
            "Epoch 2/2\n",
            "Shape of X output by data generator:  (10, 10, 224, 224, 3)\n",
            "Shape of X output by data generator:  (10, 10, 224, 224, 3)\n",
            "Shape of X output by data generator:  (10, 10, 224, 224, 3)\n",
            "Shape of X output by data generator:  (10, 10, 224, 224, 3)\n",
            "Shape of X output by data generator:  (10, 10, 224, 224, 3)\n",
            "Shape of X output by data generator:  (10, 10, 224, 224, 3)\n",
            "Shape of X output by data generator:  (10, 10, 224, 224, 3)\n",
            "Shape of X output by data generator:  (10, 10, 224, 224, 3)\n",
            "Shape of X output by data generator:  (10, 10, 224, 224, 3)\n",
            "Shape of X output by data generator:  (10, 10, 224, 224, 3)\n",
            "Shape of X output by data generator:  (10, 10, 224, 224, 3)\n",
            "Shape of X output by data generator:  (10, 10, 224, 224, 3)\n",
            "Shape of X output by data generator:  (10, 10, 224, 224, 3)\n",
            "Shape of X output by data generator:  (10, 10, 224, 224, 3)\n",
            "Shape of X output by data generator:  (10, 10, 224, 224, 3)\n",
            "Shape of X output by data generator:  (10, 10, 224, 224, 3)\n",
            "Shape of X output by data generator:  (10, 10, 224, 224, 3)\n",
            "Shape of X output by data generator:  (10, 10, 224, 224, 3)\n",
            "Shape of X output by data generator:  (10, 10, 224, 224, 3)\n",
            "Shape of X output by data generator:  (10, 10, 224, 224, 3)\n",
            "Shape of X output by data generator:  (10, 10, 224, 224, 3)\n",
            "Shape of X output by data generator:  (10, 10, 224, 224, 3)\n",
            "Shape of X output by data generator:  (10, 10, 224, 224, 3)\n",
            "Shape of X output by data generator:  (10, 10, 224, 224, 3)\n",
            "Shape of X output by data generator:  (10, 10, 224, 224, 3)\n",
            "Shape of X output by data generator:  (10, 10, 224, 224, 3)\n",
            "Shape of X output by data generator:  (10, 10, 224, 224, 3)\n",
            "Shape of X output by data generator:  (10, 10, 224, 224, 3)\n",
            "Shape of X output by data generator:  (10, 10, 224, 224, 3)\n",
            "Shape of X output by data generator:  (10, 10, 224, 224, 3)\n",
            "Shape of X output by data generator:  (10, 10, 224, 224, 3)\n",
            "Shape of X output by data generator:  (10, 10, 224, 224, 3)\n",
            "Shape of X output by data generator:  (10, 10, 224, 224, 3)\n",
            "Shape of X output by data generator:  (10, 10, 224, 224, 3)\n",
            "Shape of X output by data generator:  (10, 10, 224, 224, 3)\n",
            "Shape of X output by data generator:  (10, 10, 224, 224, 3)\n",
            "30/30 - 135s - loss: 2.1282 - accuracy: 0.1333 - val_loss: 2.1755 - val_accuracy: 0.1333\n"
          ],
          "name": "stdout"
        }
      ]
    },
    {
      "cell_type": "code",
      "metadata": {
        "id": "uBx-fnpUBRGt"
      },
      "source": [
        "#this simply means that we will need too much computational power"
      ],
      "execution_count": null,
      "outputs": []
    },
    {
      "cell_type": "code",
      "metadata": {
        "id": "4S19Zng4Jzzk"
      },
      "source": [
        "import time"
      ],
      "execution_count": null,
      "outputs": []
    },
    {
      "cell_type": "code",
      "metadata": {
        "colab": {
          "base_uri": "https://localhost:8080/",
          "height": 1000
        },
        "id": "edMRkNM-Ix-W",
        "outputId": "08ade9ab-bb31-4226-d119-b01342d23835"
      },
      "source": [
        "with tf.device('/device:GPU:0'):\n",
        "  Tframes=10\n",
        "  batch_size=10\n",
        "  params = {'dim': (Tframes,224,224,3),\n",
        "            'batch_size': batch_size,\n",
        "            'n_classes': 8,\n",
        "            'shuffle': True}\n",
        "\n",
        "  # Generators\n",
        "  training_generator = DataGenerator(partition['train'], labels, **params)\n",
        "  validation_generator = DataGenerator(partition['validation'], labels, **params)\n",
        "\n",
        "\n",
        "  model=createModel4(Tframes=Tframes)\n",
        "  history=model.fit_generator(epochs=1,verbose=2,generator=training_generator,\n",
        "                    validation_data=validation_generator)\n",
        "  plt.plot(history.history['accuracy'])\n",
        "  plt.plot(history.history['val_accuracy'])\n",
        "  plt.title('model accuracy')\n",
        "  plt.ylabel('accuracy')\n",
        "  plt.xlabel('epoch')\n",
        "  plt.legend(['train', 'val'], loc='upper left')\n",
        "  plt.show()\n",
        "\n",
        "  plt.plot(history.history['loss'])\n",
        "  plt.plot(history.history['val_loss'])\n",
        "  plt.title('model loss')\n",
        "  plt.ylabel('loss')\n",
        "  plt.xlabel('epoch')\n",
        "  plt.legend(['train', 'val'], loc='upper left')\n",
        "  plt.show()"
      ],
      "execution_count": null,
      "outputs": [
        {
          "output_type": "stream",
          "text": [
            "out.shape:  (None, 224, 224, 3)\n",
            "out.shape:  (None, 224, 224, 3)\n",
            "out.shape:  (None, 224, 224, 3)\n",
            "out.shape:  (None, 224, 224, 3)\n",
            "out.shape:  (None, 224, 224, 3)\n",
            "out.shape:  (None, 224, 224, 3)\n",
            "out.shape:  (None, 224, 224, 3)\n",
            "out.shape:  (None, 224, 224, 3)\n",
            "out.shape:  (None, 224, 224, 3)\n",
            "out.shape:  (None, 224, 224, 3)\n",
            "Shape of X output by data generator:  (10, 10, 224, 224, 3)\n",
            "Shape of X output by data generator:  (10, 10, 224, 224, 3)\n",
            "Shape of X output by data generator:  (10, 10, 224, 224, 3)\n",
            "Shape of X output by data generator:  (10, 10, 224, 224, 3)\n",
            "Shape of X output by data generator:  (10, 10, 224, 224, 3)\n",
            "Shape of X output by data generator:  (10, 10, 224, 224, 3)\n",
            "Shape of X output by data generator:  (10, 10, 224, 224, 3)\n",
            "Shape of X output by data generator:  (10, 10, 224, 224, 3)\n",
            "Shape of X output by data generator:  (10, 10, 224, 224, 3)\n",
            "Shape of X output by data generator:  (10, 10, 224, 224, 3)\n",
            "Shape of X output by data generator:  (10, 10, 224, 224, 3)\n",
            "Shape of X output by data generator:  (10, 10, 224, 224, 3)\n",
            "Shape of X output by data generator:  (10, 10, 224, 224, 3)\n",
            "Shape of X output by data generator:  (10, 10, 224, 224, 3)\n",
            "Shape of X output by data generator:  (10, 10, 224, 224, 3)\n",
            "Shape of X output by data generator:  (10, 10, 224, 224, 3)\n",
            "Shape of X output by data generator:  (10, 10, 224, 224, 3)\n",
            "Shape of X output by data generator:  (10, 10, 224, 224, 3)\n",
            "Shape of X output by data generator:  (10, 10, 224, 224, 3)\n",
            "Shape of X output by data generator:  (10, 10, 224, 224, 3)\n",
            "Shape of X output by data generator:  (10, 10, 224, 224, 3)\n",
            "Shape of X output by data generator:  (10, 10, 224, 224, 3)\n",
            "Shape of X output by data generator:  (10, 10, 224, 224, 3)\n",
            "Shape of X output by data generator:  (10, 10, 224, 224, 3)\n",
            "Shape of X output by data generator:  (10, 10, 224, 224, 3)\n",
            "Shape of X output by data generator:  (10, 10, 224, 224, 3)\n",
            "Shape of X output by data generator:  (10, 10, 224, 224, 3)\n",
            "Shape of X output by data generator:  (10, 10, 224, 224, 3)\n",
            "Shape of X output by data generator:  (10, 10, 224, 224, 3)\n",
            "Shape of X output by data generator:  (10, 10, 224, 224, 3)\n",
            "Shape of X output by data generator:  (10, 10, 224, 224, 3)\n",
            "Shape of X output by data generator:  (10, 10, 224, 224, 3)\n",
            "Shape of X output by data generator:  (10, 10, 224, 224, 3)\n",
            "Shape of X output by data generator:  (10, 10, 224, 224, 3)\n",
            "Shape of X output by data generator:  (10, 10, 224, 224, 3)\n",
            "Shape of X output by data generator:  (10, 10, 224, 224, 3)\n",
            "Shape of X output by data generator:  (10, 10, 224, 224, 3)\n",
            "Shape of X output by data generator:  (10, 10, 224, 224, 3)\n",
            "30/30 - 163s - loss: 2.3115 - accuracy: 0.1067 - val_loss: 2.1463 - val_accuracy: 0.1333\n"
          ],
          "name": "stdout"
        },
        {
          "output_type": "display_data",
          "data": {
            "image/png": "[encoded data removed]",
            "text/plain": [
              "<Figure size 432x288 with 1 Axes>"
            ]
          },
          "metadata": {
            "tags": [],
            "needs_background": "light"
          }
        },
        {
          "output_type": "display_data",
          "data": {
            "image/png": "[encoded data removed]",
            "text/plain": [
              "<Figure size 432x288 with 1 Axes>"
            ]
          },
          "metadata": {
            "tags": [],
            "needs_background": "light"
          }
        }
      ]
    },
    {
      "cell_type": "code",
      "metadata": {
        "colab": {
          "base_uri": "https://localhost:8080/",
          "height": 1000
        },
        "id": "veNRvCv5I42F",
        "outputId": "87f2e613-6bad-4dae-cdee-6d28c5a38f19"
      },
      "source": [
        "with tf.device('/device:GPU:0'):\n",
        "  Tframes=12\n",
        "  batch_size=10\n",
        "  params = {'dim': (Tframes,224,224,3),\n",
        "            'batch_size': batch_size,\n",
        "            'n_classes': 8,\n",
        "            'shuffle': True}\n",
        "\n",
        "  # Generators\n",
        "  training_generator = DataGenerator(partition['train'], labels, **params)\n",
        "  validation_generator = DataGenerator(partition['validation'], labels, **params)\n",
        "\n",
        "\n",
        "  model=createModel4(Tframes=Tframes)\n",
        "  begin=time.time()\n",
        "  history=model.fit_generator(epochs=10,verbose=2,generator=training_generator,\n",
        "                    validation_data=validation_generator)\n",
        "  end=time.time()\n",
        "\n",
        "  plt.plot(history.history['accuracy'])\n",
        "  plt.plot(history.history['val_accuracy'])\n",
        "  plt.title('model accuracy')\n",
        "  plt.ylabel('accuracy')\n",
        "  plt.xlabel('epoch')\n",
        "  plt.legend(['train', 'val'], loc='upper left')\n",
        "  plt.show()\n",
        "\n",
        "  plt.plot(history.history['loss'])\n",
        "  plt.plot(history.history['val_loss'])\n",
        "  plt.title('model loss')\n",
        "  plt.ylabel('loss')\n",
        "  plt.xlabel('epoch')\n",
        "  plt.legend(['train', 'val'], loc='upper left')\n",
        "  plt.show()\n",
        "\n",
        "  print(\"Time taken: \",end-begin)"
      ],
      "execution_count": null,
      "outputs": [
        {
          "output_type": "stream",
          "text": [
            "out.shape:  (None, 224, 224, 3)\n",
            "out.shape:  (None, 224, 224, 3)\n",
            "out.shape:  (None, 224, 224, 3)\n",
            "out.shape:  (None, 224, 224, 3)\n",
            "out.shape:  (None, 224, 224, 3)\n",
            "out.shape:  (None, 224, 224, 3)\n",
            "out.shape:  (None, 224, 224, 3)\n",
            "out.shape:  (None, 224, 224, 3)\n",
            "out.shape:  (None, 224, 224, 3)\n",
            "out.shape:  (None, 224, 224, 3)\n",
            "out.shape:  (None, 224, 224, 3)\n",
            "out.shape:  (None, 224, 224, 3)\n",
            "Shape of X output by data generator:  (10, 12, 224, 224, 3)\n",
            "Epoch 1/10\n",
            "Shape of X output by data generator:  (10, 12, 224, 224, 3)\n",
            "Shape of X output by data generator:  (10, 12, 224, 224, 3)\n",
            "Shape of X output by data generator:  (10, 12, 224, 224, 3)\n",
            "Shape of X output by data generator:  (10, 12, 224, 224, 3)\n",
            "Shape of X output by data generator:  (10, 12, 224, 224, 3)\n",
            "Shape of X output by data generator:  (10, 12, 224, 224, 3)\n",
            "Shape of X output by data generator:  (10, 12, 224, 224, 3)\n",
            "Shape of X output by data generator:  (10, 12, 224, 224, 3)\n",
            "Shape of X output by data generator:  (10, 12, 224, 224, 3)\n",
            "Shape of X output by data generator:  (10, 12, 224, 224, 3)\n",
            "Shape of X output by data generator:  (10, 12, 224, 224, 3)\n",
            "Shape of X output by data generator:  (10, 12, 224, 224, 3)\n",
            "Shape of X output by data generator:  (10, 12, 224, 224, 3)\n",
            "Shape of X output by data generator:  (10, 12, 224, 224, 3)\n",
            "Shape of X output by data generator:  (10, 12, 224, 224, 3)\n",
            "Shape of X output by data generator:  (10, 12, 224, 224, 3)\n",
            "Shape of X output by data generator:  (10, 12, 224, 224, 3)\n",
            "Shape of X output by data generator:  (10, 12, 224, 224, 3)\n",
            "Shape of X output by data generator:  (10, 12, 224, 224, 3)\n",
            "Shape of X output by data generator:  (10, 12, 224, 224, 3)\n",
            "Shape of X output by data generator:  (10, 12, 224, 224, 3)\n",
            "Shape of X output by data generator:  (10, 12, 224, 224, 3)\n",
            "Shape of X output by data generator:  (10, 12, 224, 224, 3)\n",
            "Shape of X output by data generator:  (10, 12, 224, 224, 3)\n",
            "Shape of X output by data generator:  (10, 12, 224, 224, 3)\n",
            "Shape of X output by data generator:  (10, 12, 224, 224, 3)\n",
            "Shape of X output by data generator:  (10, 12, 224, 224, 3)\n",
            "Shape of X output by data generator:  (10, 12, 224, 224, 3)\n",
            "Shape of X output by data generator:  (10, 12, 224, 224, 3)\n",
            "Shape of X output by data generator:  (10, 12, 224, 224, 3)\n",
            "Shape of X output by data generator:  (10, 12, 224, 224, 3)\n",
            "Shape of X output by data generator:  (10, 12, 224, 224, 3)\n",
            "Shape of X output by data generator:  (10, 12, 224, 224, 3)\n",
            "Shape of X output by data generator:  (10, 12, 224, 224, 3)\n",
            "Shape of X output by data generator:  (10, 12, 224, 224, 3)\n",
            "Shape of X output by data generator:  (10, 12, 224, 224, 3)\n",
            "Shape of X output by data generator:  (10, 12, 224, 224, 3)\n",
            "30/30 - 182s - loss: 2.3294 - accuracy: 0.0900 - val_loss: 2.0957 - val_accuracy: 0.1333\n",
            "Epoch 2/10\n",
            "Shape of X output by data generator:  (10, 12, 224, 224, 3)\n",
            "Shape of X output by data generator:  (10, 12, 224, 224, 3)\n",
            "Shape of X output by data generator:  (10, 12, 224, 224, 3)\n",
            "Shape of X output by data generator:  (10, 12, 224, 224, 3)\n",
            "Shape of X output by data generator:  (10, 12, 224, 224, 3)\n",
            "Shape of X output by data generator:  (10, 12, 224, 224, 3)\n",
            "Shape of X output by data generator:  (10, 12, 224, 224, 3)\n",
            "Shape of X output by data generator:  (10, 12, 224, 224, 3)\n",
            "Shape of X output by data generator:  (10, 12, 224, 224, 3)\n",
            "Shape of X output by data generator:  (10, 12, 224, 224, 3)\n",
            "Shape of X output by data generator:  (10, 12, 224, 224, 3)\n",
            "Shape of X output by data generator:  (10, 12, 224, 224, 3)\n",
            "Shape of X output by data generator:  (10, 12, 224, 224, 3)\n",
            "Shape of X output by data generator:  (10, 12, 224, 224, 3)\n",
            "Shape of X output by data generator:  (10, 12, 224, 224, 3)\n",
            "Shape of X output by data generator:  (10, 12, 224, 224, 3)\n",
            "Shape of X output by data generator:  (10, 12, 224, 224, 3)\n",
            "Shape of X output by data generator:  (10, 12, 224, 224, 3)\n",
            "Shape of X output by data generator:  (10, 12, 224, 224, 3)\n",
            "Shape of X output by data generator:  (10, 12, 224, 224, 3)\n",
            "Shape of X output by data generator:  (10, 12, 224, 224, 3)\n",
            "Shape of X output by data generator:  (10, 12, 224, 224, 3)\n",
            "Shape of X output by data generator:  (10, 12, 224, 224, 3)\n",
            "Shape of X output by data generator:  (10, 12, 224, 224, 3)\n",
            "Shape of X output by data generator:  (10, 12, 224, 224, 3)\n",
            "Shape of X output by data generator:  (10, 12, 224, 224, 3)\n",
            "Shape of X output by data generator:  (10, 12, 224, 224, 3)\n",
            "Shape of X output by data generator:  (10, 12, 224, 224, 3)\n",
            "Shape of X output by data generator:  (10, 12, 224, 224, 3)\n",
            "Shape of X output by data generator:  (10, 12, 224, 224, 3)\n",
            "Shape of X output by data generator:  (10, 12, 224, 224, 3)\n",
            "Shape of X output by data generator:  (10, 12, 224, 224, 3)\n",
            "Shape of X output by data generator:  (10, 12, 224, 224, 3)\n",
            "Shape of X output by data generator:  (10, 12, 224, 224, 3)\n",
            "Shape of X output by data generator:  (10, 12, 224, 224, 3)\n",
            "Shape of X output by data generator:  (10, 12, 224, 224, 3)\n",
            "30/30 - 169s - loss: 2.1304 - accuracy: 0.1133 - val_loss: 2.1124 - val_accuracy: 0.1333\n",
            "Epoch 3/10\n",
            "Shape of X output by data generator:  (10, 12, 224, 224, 3)\n",
            "Shape of X output by data generator:  (10, 12, 224, 224, 3)\n",
            "Shape of X output by data generator:  (10, 12, 224, 224, 3)\n",
            "Shape of X output by data generator:  (10, 12, 224, 224, 3)\n",
            "Shape of X output by data generator:  (10, 12, 224, 224, 3)\n",
            "Shape of X output by data generator:  (10, 12, 224, 224, 3)\n",
            "Shape of X output by data generator:  (10, 12, 224, 224, 3)\n",
            "Shape of X output by data generator:  (10, 12, 224, 224, 3)\n",
            "Shape of X output by data generator:  (10, 12, 224, 224, 3)\n",
            "Shape of X output by data generator:  (10, 12, 224, 224, 3)\n",
            "Shape of X output by data generator:  (10, 12, 224, 224, 3)\n",
            "Shape of X output by data generator:  (10, 12, 224, 224, 3)\n",
            "Shape of X output by data generator:  (10, 12, 224, 224, 3)\n",
            "Shape of X output by data generator:  (10, 12, 224, 224, 3)\n",
            "Shape of X output by data generator:  (10, 12, 224, 224, 3)\n",
            "Shape of X output by data generator:  (10, 12, 224, 224, 3)\n",
            "Shape of X output by data generator:  (10, 12, 224, 224, 3)\n",
            "Shape of X output by data generator:  (10, 12, 224, 224, 3)\n",
            "Shape of X output by data generator:  (10, 12, 224, 224, 3)\n",
            "Shape of X output by data generator:  (10, 12, 224, 224, 3)\n",
            "Shape of X output by data generator:  (10, 12, 224, 224, 3)\n",
            "Shape of X output by data generator:  (10, 12, 224, 224, 3)\n",
            "Shape of X output by data generator:  (10, 12, 224, 224, 3)\n",
            "Shape of X output by data generator:  (10, 12, 224, 224, 3)\n",
            "Shape of X output by data generator:  (10, 12, 224, 224, 3)\n",
            "Shape of X output by data generator:  (10, 12, 224, 224, 3)\n",
            "Shape of X output by data generator:  (10, 12, 224, 224, 3)\n",
            "Shape of X output by data generator:  (10, 12, 224, 224, 3)\n",
            "Shape of X output by data generator:  (10, 12, 224, 224, 3)\n",
            "Shape of X output by data generator:  (10, 12, 224, 224, 3)\n",
            "Shape of X output by data generator:  (10, 12, 224, 224, 3)\n",
            "Shape of X output by data generator:  (10, 12, 224, 224, 3)\n",
            "Shape of X output by data generator:  (10, 12, 224, 224, 3)\n",
            "Shape of X output by data generator:  (10, 12, 224, 224, 3)\n",
            "Shape of X output by data generator:  (10, 12, 224, 224, 3)\n",
            "Shape of X output by data generator:  (10, 12, 224, 224, 3)\n",
            "30/30 - 170s - loss: 2.1445 - accuracy: 0.1200 - val_loss: 2.1015 - val_accuracy: 0.1333\n",
            "Epoch 4/10\n",
            "Shape of X output by data generator:  (10, 12, 224, 224, 3)\n",
            "Shape of X output by data generator:  (10, 12, 224, 224, 3)\n",
            "Shape of X output by data generator:  (10, 12, 224, 224, 3)\n",
            "Shape of X output by data generator:  (10, 12, 224, 224, 3)\n",
            "Shape of X output by data generator:  (10, 12, 224, 224, 3)\n",
            "Shape of X output by data generator:  (10, 12, 224, 224, 3)\n",
            "Shape of X output by data generator:  (10, 12, 224, 224, 3)\n",
            "Shape of X output by data generator:  (10, 12, 224, 224, 3)\n",
            "Shape of X output by data generator:  (10, 12, 224, 224, 3)\n",
            "Shape of X output by data generator:  (10, 12, 224, 224, 3)\n",
            "Shape of X output by data generator:  (10, 12, 224, 224, 3)\n",
            "Shape of X output by data generator:  (10, 12, 224, 224, 3)\n",
            "Shape of X output by data generator:  (10, 12, 224, 224, 3)\n",
            "Shape of X output by data generator:  (10, 12, 224, 224, 3)\n",
            "Shape of X output by data generator:  (10, 12, 224, 224, 3)\n",
            "Shape of X output by data generator:  (10, 12, 224, 224, 3)\n",
            "Shape of X output by data generator:  (10, 12, 224, 224, 3)\n",
            "Shape of X output by data generator:  (10, 12, 224, 224, 3)\n",
            "Shape of X output by data generator:  (10, 12, 224, 224, 3)\n",
            "Shape of X output by data generator:  (10, 12, 224, 224, 3)\n",
            "Shape of X output by data generator:  (10, 12, 224, 224, 3)\n",
            "Shape of X output by data generator:  (10, 12, 224, 224, 3)\n",
            "Shape of X output by data generator:  (10, 12, 224, 224, 3)\n",
            "Shape of X output by data generator:  (10, 12, 224, 224, 3)\n",
            "Shape of X output by data generator:  (10, 12, 224, 224, 3)\n",
            "Shape of X output by data generator:  (10, 12, 224, 224, 3)\n",
            "Shape of X output by data generator:  (10, 12, 224, 224, 3)\n",
            "Shape of X output by data generator:  (10, 12, 224, 224, 3)\n",
            "Shape of X output by data generator:  (10, 12, 224, 224, 3)\n",
            "Shape of X output by data generator:  (10, 12, 224, 224, 3)\n",
            "Shape of X output by data generator:  (10, 12, 224, 224, 3)\n",
            "Shape of X output by data generator:  (10, 12, 224, 224, 3)\n",
            "Shape of X output by data generator:  (10, 12, 224, 224, 3)\n",
            "Shape of X output by data generator:  (10, 12, 224, 224, 3)\n",
            "Shape of X output by data generator:  (10, 12, 224, 224, 3)\n",
            "Shape of X output by data generator:  (10, 12, 224, 224, 3)\n",
            "30/30 - 177s - loss: 2.1454 - accuracy: 0.1067 - val_loss: 2.1530 - val_accuracy: 0.1333\n",
            "Epoch 5/10\n",
            "Shape of X output by data generator:  (10, 12, 224, 224, 3)\n",
            "Shape of X output by data generator:  (10, 12, 224, 224, 3)\n",
            "Shape of X output by data generator:  (10, 12, 224, 224, 3)\n",
            "Shape of X output by data generator:  (10, 12, 224, 224, 3)\n",
            "Shape of X output by data generator:  (10, 12, 224, 224, 3)\n",
            "Shape of X output by data generator:  (10, 12, 224, 224, 3)\n",
            "Shape of X output by data generator:  (10, 12, 224, 224, 3)\n",
            "Shape of X output by data generator:  (10, 12, 224, 224, 3)\n",
            "Shape of X output by data generator:  (10, 12, 224, 224, 3)\n",
            "Shape of X output by data generator:  (10, 12, 224, 224, 3)\n",
            "Shape of X output by data generator:  (10, 12, 224, 224, 3)\n",
            "Shape of X output by data generator:  (10, 12, 224, 224, 3)\n",
            "Shape of X output by data generator:  (10, 12, 224, 224, 3)\n",
            "Shape of X output by data generator:  (10, 12, 224, 224, 3)\n",
            "Shape of X output by data generator:  (10, 12, 224, 224, 3)\n",
            "Shape of X output by data generator:  (10, 12, 224, 224, 3)\n",
            "Shape of X output by data generator:  (10, 12, 224, 224, 3)\n",
            "Shape of X output by data generator:  (10, 12, 224, 224, 3)\n",
            "Shape of X output by data generator:  (10, 12, 224, 224, 3)\n",
            "Shape of X output by data generator:  (10, 12, 224, 224, 3)\n",
            "Shape of X output by data generator:  (10, 12, 224, 224, 3)\n",
            "Shape of X output by data generator:  (10, 12, 224, 224, 3)\n",
            "Shape of X output by data generator:  (10, 12, 224, 224, 3)\n",
            "Shape of X output by data generator:  (10, 12, 224, 224, 3)\n",
            "Shape of X output by data generator:  (10, 12, 224, 224, 3)\n",
            "Shape of X output by data generator:  (10, 12, 224, 224, 3)\n",
            "Shape of X output by data generator:  (10, 12, 224, 224, 3)\n",
            "Shape of X output by data generator:  (10, 12, 224, 224, 3)\n",
            "Shape of X output by data generator:  (10, 12, 224, 224, 3)\n",
            "Shape of X output by data generator:  (10, 12, 224, 224, 3)\n",
            "Shape of X output by data generator:  (10, 12, 224, 224, 3)\n",
            "Shape of X output by data generator:  (10, 12, 224, 224, 3)\n",
            "Shape of X output by data generator:  (10, 12, 224, 224, 3)\n",
            "Shape of X output by data generator:  (10, 12, 224, 224, 3)\n",
            "Shape of X output by data generator:  (10, 12, 224, 224, 3)\n",
            "Shape of X output by data generator:  (10, 12, 224, 224, 3)\n",
            "30/30 - 189s - loss: 2.1435 - accuracy: 0.1133 - val_loss: 2.1318 - val_accuracy: 0.1000\n",
            "Epoch 6/10\n",
            "Shape of X output by data generator:  (10, 12, 224, 224, 3)\n",
            "Shape of X output by data generator:  (10, 12, 224, 224, 3)\n",
            "Shape of X output by data generator:  (10, 12, 224, 224, 3)\n",
            "Shape of X output by data generator:  (10, 12, 224, 224, 3)\n",
            "Shape of X output by data generator:  (10, 12, 224, 224, 3)\n",
            "Shape of X output by data generator:  (10, 12, 224, 224, 3)\n",
            "Shape of X output by data generator:  (10, 12, 224, 224, 3)\n",
            "Shape of X output by data generator:  (10, 12, 224, 224, 3)\n",
            "Shape of X output by data generator:  (10, 12, 224, 224, 3)\n",
            "Shape of X output by data generator:  (10, 12, 224, 224, 3)\n",
            "Shape of X output by data generator:  (10, 12, 224, 224, 3)\n",
            "Shape of X output by data generator:  (10, 12, 224, 224, 3)\n",
            "Shape of X output by data generator:  (10, 12, 224, 224, 3)\n",
            "Shape of X output by data generator:  (10, 12, 224, 224, 3)\n",
            "Shape of X output by data generator:  (10, 12, 224, 224, 3)\n",
            "Shape of X output by data generator:  (10, 12, 224, 224, 3)\n",
            "Shape of X output by data generator:  (10, 12, 224, 224, 3)\n",
            "Shape of X output by data generator:  (10, 12, 224, 224, 3)\n",
            "Shape of X output by data generator:  (10, 12, 224, 224, 3)\n",
            "Shape of X output by data generator:  (10, 12, 224, 224, 3)\n",
            "Shape of X output by data generator:  (10, 12, 224, 224, 3)\n",
            "Shape of X output by data generator:  (10, 12, 224, 224, 3)\n",
            "Shape of X output by data generator:  (10, 12, 224, 224, 3)\n",
            "Shape of X output by data generator:  (10, 12, 224, 224, 3)\n",
            "Shape of X output by data generator:  (10, 12, 224, 224, 3)\n",
            "Shape of X output by data generator:  (10, 12, 224, 224, 3)\n",
            "Shape of X output by data generator:  (10, 12, 224, 224, 3)\n",
            "Shape of X output by data generator:  (10, 12, 224, 224, 3)\n",
            "Shape of X output by data generator:  (10, 12, 224, 224, 3)\n",
            "Shape of X output by data generator:  (10, 12, 224, 224, 3)\n",
            "Shape of X output by data generator:  (10, 12, 224, 224, 3)\n",
            "Shape of X output by data generator:  (10, 12, 224, 224, 3)\n",
            "Shape of X output by data generator:  (10, 12, 224, 224, 3)\n",
            "Shape of X output by data generator:  (10, 12, 224, 224, 3)\n",
            "Shape of X output by data generator:  (10, 12, 224, 224, 3)\n",
            "Shape of X output by data generator:  (10, 12, 224, 224, 3)\n",
            "30/30 - 198s - loss: 2.1646 - accuracy: 0.0967 - val_loss: 2.0941 - val_accuracy: 0.1333\n",
            "Epoch 7/10\n",
            "Shape of X output by data generator:  (10, 12, 224, 224, 3)\n",
            "Shape of X output by data generator:  (10, 12, 224, 224, 3)\n",
            "Shape of X output by data generator:  (10, 12, 224, 224, 3)\n",
            "Shape of X output by data generator:  (10, 12, 224, 224, 3)\n",
            "Shape of X output by data generator:  (10, 12, 224, 224, 3)\n",
            "Shape of X output by data generator:  (10, 12, 224, 224, 3)\n",
            "Shape of X output by data generator:  (10, 12, 224, 224, 3)\n",
            "Shape of X output by data generator:  (10, 12, 224, 224, 3)\n",
            "Shape of X output by data generator:  (10, 12, 224, 224, 3)\n",
            "Shape of X output by data generator:  (10, 12, 224, 224, 3)\n",
            "Shape of X output by data generator:  (10, 12, 224, 224, 3)\n",
            "Shape of X output by data generator:  (10, 12, 224, 224, 3)\n",
            "Shape of X output by data generator:  (10, 12, 224, 224, 3)\n",
            "Shape of X output by data generator:  (10, 12, 224, 224, 3)\n",
            "Shape of X output by data generator:  (10, 12, 224, 224, 3)\n",
            "Shape of X output by data generator:  (10, 12, 224, 224, 3)\n",
            "Shape of X output by data generator:  (10, 12, 224, 224, 3)\n",
            "Shape of X output by data generator:  (10, 12, 224, 224, 3)\n",
            "Shape of X output by data generator:  (10, 12, 224, 224, 3)\n",
            "Shape of X output by data generator:  (10, 12, 224, 224, 3)\n",
            "Shape of X output by data generator:  (10, 12, 224, 224, 3)\n",
            "Shape of X output by data generator:  (10, 12, 224, 224, 3)\n",
            "Shape of X output by data generator:  (10, 12, 224, 224, 3)\n",
            "Shape of X output by data generator:  (10, 12, 224, 224, 3)\n",
            "Shape of X output by data generator:  (10, 12, 224, 224, 3)\n",
            "Shape of X output by data generator:  (10, 12, 224, 224, 3)\n",
            "Shape of X output by data generator:  (10, 12, 224, 224, 3)\n",
            "Shape of X output by data generator:  (10, 12, 224, 224, 3)\n",
            "Shape of X output by data generator:  (10, 12, 224, 224, 3)\n",
            "Shape of X output by data generator:  (10, 12, 224, 224, 3)\n",
            "Shape of X output by data generator:  (10, 12, 224, 224, 3)\n",
            "Shape of X output by data generator:  (10, 12, 224, 224, 3)\n",
            "Shape of X output by data generator:  (10, 12, 224, 224, 3)\n",
            "Shape of X output by data generator:  (10, 12, 224, 224, 3)\n",
            "Shape of X output by data generator:  (10, 12, 224, 224, 3)\n",
            "Shape of X output by data generator:  (10, 12, 224, 224, 3)\n",
            "30/30 - 205s - loss: 2.1171 - accuracy: 0.1133 - val_loss: 2.1003 - val_accuracy: 0.1333\n",
            "Epoch 8/10\n",
            "Shape of X output by data generator:  (10, 12, 224, 224, 3)\n",
            "Shape of X output by data generator:  (10, 12, 224, 224, 3)\n",
            "Shape of X output by data generator:  (10, 12, 224, 224, 3)\n",
            "Shape of X output by data generator:  (10, 12, 224, 224, 3)\n",
            "Shape of X output by data generator:  (10, 12, 224, 224, 3)\n",
            "Shape of X output by data generator:  (10, 12, 224, 224, 3)\n",
            "Shape of X output by data generator:  (10, 12, 224, 224, 3)\n",
            "Shape of X output by data generator:  (10, 12, 224, 224, 3)\n",
            "Shape of X output by data generator:  (10, 12, 224, 224, 3)\n",
            "Shape of X output by data generator:  (10, 12, 224, 224, 3)\n",
            "Shape of X output by data generator:  (10, 12, 224, 224, 3)\n",
            "Shape of X output by data generator:  (10, 12, 224, 224, 3)\n",
            "Shape of X output by data generator:  (10, 12, 224, 224, 3)\n",
            "Shape of X output by data generator:  (10, 12, 224, 224, 3)\n",
            "Shape of X output by data generator:  (10, 12, 224, 224, 3)\n",
            "Shape of X output by data generator:  (10, 12, 224, 224, 3)\n",
            "Shape of X output by data generator:  (10, 12, 224, 224, 3)\n",
            "Shape of X output by data generator:  (10, 12, 224, 224, 3)\n",
            "Shape of X output by data generator:  (10, 12, 224, 224, 3)\n",
            "Shape of X output by data generator:  (10, 12, 224, 224, 3)\n",
            "Shape of X output by data generator:  (10, 12, 224, 224, 3)\n",
            "Shape of X output by data generator:  (10, 12, 224, 224, 3)\n",
            "Shape of X output by data generator:  (10, 12, 224, 224, 3)\n",
            "Shape of X output by data generator:  (10, 12, 224, 224, 3)\n",
            "Shape of X output by data generator:  (10, 12, 224, 224, 3)\n",
            "Shape of X output by data generator:  (10, 12, 224, 224, 3)\n",
            "Shape of X output by data generator:  (10, 12, 224, 224, 3)\n",
            "Shape of X output by data generator:  (10, 12, 224, 224, 3)\n",
            "Shape of X output by data generator:  (10, 12, 224, 224, 3)\n",
            "Shape of X output by data generator:  (10, 12, 224, 224, 3)\n",
            "Shape of X output by data generator:  (10, 12, 224, 224, 3)\n",
            "Shape of X output by data generator:  (10, 12, 224, 224, 3)\n",
            "Shape of X output by data generator:  (10, 12, 224, 224, 3)\n",
            "Shape of X output by data generator:  (10, 12, 224, 224, 3)\n",
            "Shape of X output by data generator:  (10, 12, 224, 224, 3)\n",
            "Shape of X output by data generator:  (10, 12, 224, 224, 3)\n",
            "30/30 - 212s - loss: 2.1410 - accuracy: 0.1333 - val_loss: 2.1269 - val_accuracy: 0.1167\n",
            "Epoch 9/10\n",
            "Shape of X output by data generator:  (10, 12, 224, 224, 3)\n",
            "Shape of X output by data generator:  (10, 12, 224, 224, 3)\n",
            "Shape of X output by data generator:  (10, 12, 224, 224, 3)\n",
            "Shape of X output by data generator:  (10, 12, 224, 224, 3)\n",
            "Shape of X output by data generator:  (10, 12, 224, 224, 3)\n",
            "Shape of X output by data generator:  (10, 12, 224, 224, 3)\n",
            "Shape of X output by data generator:  (10, 12, 224, 224, 3)\n",
            "Shape of X output by data generator:  (10, 12, 224, 224, 3)\n",
            "Shape of X output by data generator:  (10, 12, 224, 224, 3)\n",
            "Shape of X output by data generator:  (10, 12, 224, 224, 3)\n",
            "Shape of X output by data generator:  (10, 12, 224, 224, 3)\n",
            "Shape of X output by data generator:  (10, 12, 224, 224, 3)\n",
            "Shape of X output by data generator:  (10, 12, 224, 224, 3)\n",
            "Shape of X output by data generator:  (10, 12, 224, 224, 3)\n",
            "Shape of X output by data generator:  (10, 12, 224, 224, 3)\n",
            "Shape of X output by data generator:  (10, 12, 224, 224, 3)\n",
            "Shape of X output by data generator:  (10, 12, 224, 224, 3)\n",
            "Shape of X output by data generator:  (10, 12, 224, 224, 3)\n",
            "Shape of X output by data generator:  (10, 12, 224, 224, 3)\n",
            "Shape of X output by data generator:  (10, 12, 224, 224, 3)\n",
            "Shape of X output by data generator:  (10, 12, 224, 224, 3)\n",
            "Shape of X output by data generator:  (10, 12, 224, 224, 3)\n",
            "Shape of X output by data generator:  (10, 12, 224, 224, 3)\n",
            "Shape of X output by data generator:  (10, 12, 224, 224, 3)\n",
            "Shape of X output by data generator:  (10, 12, 224, 224, 3)\n",
            "Shape of X output by data generator:  (10, 12, 224, 224, 3)\n",
            "Shape of X output by data generator:  (10, 12, 224, 224, 3)\n",
            "Shape of X output by data generator:  (10, 12, 224, 224, 3)\n",
            "Shape of X output by data generator:  (10, 12, 224, 224, 3)\n",
            "Shape of X output by data generator:  (10, 12, 224, 224, 3)\n",
            "Shape of X output by data generator:  (10, 12, 224, 224, 3)\n",
            "Shape of X output by data generator:  (10, 12, 224, 224, 3)\n",
            "Shape of X output by data generator:  (10, 12, 224, 224, 3)\n",
            "Shape of X output by data generator:  (10, 12, 224, 224, 3)\n",
            "Shape of X output by data generator:  (10, 12, 224, 224, 3)\n",
            "Shape of X output by data generator:  (10, 12, 224, 224, 3)\n",
            "30/30 - 221s - loss: 2.1390 - accuracy: 0.0967 - val_loss: 2.1036 - val_accuracy: 0.1167\n",
            "Epoch 10/10\n",
            "Shape of X output by data generator:  (10, 12, 224, 224, 3)\n",
            "Shape of X output by data generator:  (10, 12, 224, 224, 3)\n",
            "Shape of X output by data generator:  (10, 12, 224, 224, 3)\n",
            "Shape of X output by data generator:  (10, 12, 224, 224, 3)\n",
            "Shape of X output by data generator:  (10, 12, 224, 224, 3)\n",
            "Shape of X output by data generator:  (10, 12, 224, 224, 3)\n",
            "Shape of X output by data generator:  (10, 12, 224, 224, 3)\n",
            "Shape of X output by data generator:  (10, 12, 224, 224, 3)\n",
            "Shape of X output by data generator:  (10, 12, 224, 224, 3)\n",
            "Shape of X output by data generator:  (10, 12, 224, 224, 3)\n",
            "Shape of X output by data generator:  (10, 12, 224, 224, 3)\n",
            "Shape of X output by data generator:  (10, 12, 224, 224, 3)\n",
            "Shape of X output by data generator:  (10, 12, 224, 224, 3)\n",
            "Shape of X output by data generator:  (10, 12, 224, 224, 3)\n",
            "Shape of X output by data generator:  (10, 12, 224, 224, 3)\n",
            "Shape of X output by data generator:  (10, 12, 224, 224, 3)\n",
            "Shape of X output by data generator:  (10, 12, 224, 224, 3)\n",
            "Shape of X output by data generator:  (10, 12, 224, 224, 3)\n",
            "Shape of X output by data generator:  (10, 12, 224, 224, 3)\n",
            "Shape of X output by data generator:  (10, 12, 224, 224, 3)\n",
            "Shape of X output by data generator:  (10, 12, 224, 224, 3)\n",
            "Shape of X output by data generator:  (10, 12, 224, 224, 3)\n",
            "Shape of X output by data generator:  (10, 12, 224, 224, 3)\n",
            "Shape of X output by data generator:  (10, 12, 224, 224, 3)\n",
            "Shape of X output by data generator:  (10, 12, 224, 224, 3)\n",
            "Shape of X output by data generator:  (10, 12, 224, 224, 3)\n",
            "Shape of X output by data generator:  (10, 12, 224, 224, 3)\n",
            "Shape of X output by data generator:  (10, 12, 224, 224, 3)\n",
            "Shape of X output by data generator:  (10, 12, 224, 224, 3)\n",
            "Shape of X output by data generator:  (10, 12, 224, 224, 3)\n",
            "Shape of X output by data generator:  (10, 12, 224, 224, 3)\n",
            "Shape of X output by data generator:  (10, 12, 224, 224, 3)\n",
            "Shape of X output by data generator:  (10, 12, 224, 224, 3)\n",
            "Shape of X output by data generator:  (10, 12, 224, 224, 3)\n",
            "Shape of X output by data generator:  (10, 12, 224, 224, 3)\n",
            "Shape of X output by data generator:  (10, 12, 224, 224, 3)\n",
            "30/30 - 234s - loss: 2.1136 - accuracy: 0.1167 - val_loss: 2.1455 - val_accuracy: 0.1333\n"
          ],
          "name": "stdout"
        },
        {
          "output_type": "display_data",
          "data": {
            "image/png": "[encoded data removed]",
            "text/plain": [
              "<Figure size 432x288 with 1 Axes>"
            ]
          },
          "metadata": {
            "tags": [],
            "needs_background": "light"
          }
        },
        {
          "output_type": "display_data",
          "data": {
            "image/png": "[encoded data removed]",
            "text/plain": [
              "<Figure size 432x288 with 1 Axes>"
            ]
          },
          "metadata": {
            "tags": [],
            "needs_background": "light"
          }
        },
        {
          "output_type": "stream",
          "text": [
            "Time taken:  1962.631662607193\n"
          ],
          "name": "stdout"
        }
      ]
    },
    {
      "cell_type": "code",
      "metadata": {
        "id": "vlrU7LxjKJId"
      },
      "source": [
        ""
      ],
      "execution_count": null,
      "outputs": []
    }
  ]
}